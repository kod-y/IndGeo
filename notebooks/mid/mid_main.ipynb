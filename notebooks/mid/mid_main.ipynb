{
 "cells": [
  {
   "cell_type": "markdown",
   "metadata": {},
   "source": [
    "- 和歌山県を担当\n",
    "- 本ipynbを含め、分析に際して発生した成果物は https://github.com/kod-y/IndGeo_Mid に保存されています"
   ]
  },
  {
   "cell_type": "markdown",
   "metadata": {},
   "source": [
    "# データ取得・前処理"
   ]
  },
  {
   "cell_type": "code",
   "execution_count": 1,
   "metadata": {},
   "outputs": [],
   "source": [
    "import time\n",
    "import pandas as pd\n",
    "import numpy as np\n",
    "import matplotlib.pyplot as plt\n",
    "import seaborn as sns\n",
    "import openpyxl\n",
    "import copy\n",
    "import japanize_matplotlib"
   ]
  },
  {
   "cell_type": "markdown",
   "metadata": {},
   "source": [
    "## 和歌山県版産業連関表の前処理"
   ]
  },
  {
   "cell_type": "code",
   "execution_count": 2,
   "metadata": {},
   "outputs": [],
   "source": [
    "data = pd.read_excel(\"https://www.pref.wakayama.lg.jp/prefg/020300/sangyo/h27/d00203979_d/fil/t_37.xlsx\",\n",
    "                     index_col=0, skiprows=3)"
   ]
  },
  {
   "cell_type": "code",
   "execution_count": 3,
   "metadata": {},
   "outputs": [
    {
     "data": {
      "text/html": [
       "<div>\n",
       "<style scoped>\n",
       "    .dataframe tbody tr th:only-of-type {\n",
       "        vertical-align: middle;\n",
       "    }\n",
       "\n",
       "    .dataframe tbody tr th {\n",
       "        vertical-align: top;\n",
       "    }\n",
       "\n",
       "    .dataframe thead th {\n",
       "        text-align: right;\n",
       "    }\n",
       "</style>\n",
       "<table border=\"1\" class=\"dataframe\">\n",
       "  <thead>\n",
       "    <tr style=\"text-align: right;\">\n",
       "      <th></th>\n",
       "      <th>農林漁業</th>\n",
       "      <th>鉱業</th>\n",
       "      <th>飲食料品</th>\n",
       "      <th>繊維製品</th>\n",
       "      <th>パルプ・紙・木製品</th>\n",
       "      <th>化学製品</th>\n",
       "      <th>石油・石炭製品</th>\n",
       "      <th>プラスチック・ゴム製品</th>\n",
       "      <th>窯業・土石製品</th>\n",
       "      <th>鉄鋼</th>\n",
       "      <th>...</th>\n",
       "      <th>在庫純増(G)</th>\n",
       "      <th>県内最終需要計(H)=B+～+G</th>\n",
       "      <th>県内需要合計(I)=A+H</th>\n",
       "      <th>移輸出(J)</th>\n",
       "      <th>最終需要計(K)=H+J</th>\n",
       "      <th>需要合計(L)=I+J</th>\n",
       "      <th>［控除］移輸入(M)</th>\n",
       "      <th>最終需要部門計(N)=K+M</th>\n",
       "      <th>県内生産額(O)=L+M</th>\n",
       "      <th>県内総支出（ＧＤＥ）(P)=N-B</th>\n",
       "    </tr>\n",
       "  </thead>\n",
       "  <tbody>\n",
       "    <tr>\n",
       "      <th>農林漁業</th>\n",
       "      <td>10518</td>\n",
       "      <td>0</td>\n",
       "      <td>35335</td>\n",
       "      <td>289</td>\n",
       "      <td>3751</td>\n",
       "      <td>201</td>\n",
       "      <td>0</td>\n",
       "      <td>104</td>\n",
       "      <td>4</td>\n",
       "      <td>0</td>\n",
       "      <td>...</td>\n",
       "      <td>2066</td>\n",
       "      <td>30595</td>\n",
       "      <td>91446</td>\n",
       "      <td>104718</td>\n",
       "      <td>135313</td>\n",
       "      <td>196164</td>\n",
       "      <td>-53219</td>\n",
       "      <td>82094</td>\n",
       "      <td>142945</td>\n",
       "      <td>81604</td>\n",
       "    </tr>\n",
       "    <tr>\n",
       "      <th>鉱業</th>\n",
       "      <td>3</td>\n",
       "      <td>0</td>\n",
       "      <td>40</td>\n",
       "      <td>30</td>\n",
       "      <td>20</td>\n",
       "      <td>1114</td>\n",
       "      <td>433278</td>\n",
       "      <td>5</td>\n",
       "      <td>4701</td>\n",
       "      <td>67020</td>\n",
       "      <td>...</td>\n",
       "      <td>-14907</td>\n",
       "      <td>-15024</td>\n",
       "      <td>565664</td>\n",
       "      <td>1926</td>\n",
       "      <td>-13098</td>\n",
       "      <td>567590</td>\n",
       "      <td>-564219</td>\n",
       "      <td>-577317</td>\n",
       "      <td>3371</td>\n",
       "      <td>-577278</td>\n",
       "    </tr>\n",
       "    <tr>\n",
       "      <th>飲食料品</th>\n",
       "      <td>4436</td>\n",
       "      <td>0</td>\n",
       "      <td>35115</td>\n",
       "      <td>62</td>\n",
       "      <td>55</td>\n",
       "      <td>7235</td>\n",
       "      <td>3</td>\n",
       "      <td>1</td>\n",
       "      <td>22</td>\n",
       "      <td>0</td>\n",
       "      <td>...</td>\n",
       "      <td>1523</td>\n",
       "      <td>207731</td>\n",
       "      <td>302802</td>\n",
       "      <td>139892</td>\n",
       "      <td>347623</td>\n",
       "      <td>442694</td>\n",
       "      <td>-240843</td>\n",
       "      <td>106780</td>\n",
       "      <td>201851</td>\n",
       "      <td>100491</td>\n",
       "    </tr>\n",
       "    <tr>\n",
       "      <th>繊維製品</th>\n",
       "      <td>1232</td>\n",
       "      <td>13</td>\n",
       "      <td>220</td>\n",
       "      <td>15573</td>\n",
       "      <td>364</td>\n",
       "      <td>243</td>\n",
       "      <td>13</td>\n",
       "      <td>318</td>\n",
       "      <td>85</td>\n",
       "      <td>162</td>\n",
       "      <td>...</td>\n",
       "      <td>763</td>\n",
       "      <td>33413</td>\n",
       "      <td>63689</td>\n",
       "      <td>60092</td>\n",
       "      <td>93505</td>\n",
       "      <td>123781</td>\n",
       "      <td>-58508</td>\n",
       "      <td>34997</td>\n",
       "      <td>65273</td>\n",
       "      <td>34200</td>\n",
       "    </tr>\n",
       "    <tr>\n",
       "      <th>パルプ・紙・木製品</th>\n",
       "      <td>5251</td>\n",
       "      <td>8</td>\n",
       "      <td>3903</td>\n",
       "      <td>333</td>\n",
       "      <td>21945</td>\n",
       "      <td>6068</td>\n",
       "      <td>7</td>\n",
       "      <td>455</td>\n",
       "      <td>512</td>\n",
       "      <td>215</td>\n",
       "      <td>...</td>\n",
       "      <td>-1049</td>\n",
       "      <td>5894</td>\n",
       "      <td>87665</td>\n",
       "      <td>57008</td>\n",
       "      <td>62902</td>\n",
       "      <td>144673</td>\n",
       "      <td>-62410</td>\n",
       "      <td>492</td>\n",
       "      <td>82263</td>\n",
       "      <td>-27</td>\n",
       "    </tr>\n",
       "  </tbody>\n",
       "</table>\n",
       "<p>5 rows × 53 columns</p>\n",
       "</div>"
      ],
      "text/plain": [
       "            農林漁業  鉱業   飲食料品   繊維製品 パルプ・紙・木製品  化学製品 石油・石炭製品 プラスチック・ゴム製品  \\\n",
       "農林漁業       10518   0  35335    289      3751   201       0         104   \n",
       "鉱業             3   0     40     30        20  1114  433278           5   \n",
       "飲食料品        4436   0  35115     62        55  7235       3           1   \n",
       "繊維製品        1232  13    220  15573       364   243      13         318   \n",
       "パルプ・紙・木製品   5251   8   3903    333     21945  6068       7         455   \n",
       "\n",
       "          窯業・土石製品     鉄鋼  ... 在庫純増(G) 県内最終需要計(H)=B+～+G 県内需要合計(I)=A+H  移輸出(J)  \\\n",
       "農林漁業            4      0  ...    2066            30595         91446  104718   \n",
       "鉱業           4701  67020  ...  -14907           -15024        565664    1926   \n",
       "飲食料品           22      0  ...    1523           207731        302802  139892   \n",
       "繊維製品           85    162  ...     763            33413         63689   60092   \n",
       "パルプ・紙・木製品     512    215  ...   -1049             5894         87665   57008   \n",
       "\n",
       "          最終需要計(K)=H+J 需要合計(L)=I+J ［控除］移輸入(M) 最終需要部門計(N)=K+M 県内生産額(O)=L+M  \\\n",
       "農林漁業            135313      196164     -53219          82094       142945   \n",
       "鉱業              -13098      567590    -564219        -577317         3371   \n",
       "飲食料品            347623      442694    -240843         106780       201851   \n",
       "繊維製品             93505      123781     -58508          34997        65273   \n",
       "パルプ・紙・木製品        62902      144673     -62410            492        82263   \n",
       "\n",
       "          県内総支出（ＧＤＥ）(P)=N-B  \n",
       "農林漁業                  81604  \n",
       "鉱業                  -577278  \n",
       "飲食料品                 100491  \n",
       "繊維製品                  34200  \n",
       "パルプ・紙・木製品               -27  \n",
       "\n",
       "[5 rows x 53 columns]"
      ]
     },
     "execution_count": 3,
     "metadata": {},
     "output_type": "execute_result"
    }
   ],
   "source": [
    "def combine_columns(data):\n",
    "    df = data.copy()\n",
    "    combined_columns = []\n",
    "\n",
    "    # 複数行にまたがった列名を結合\n",
    "    for col in df.columns:\n",
    "        combined_col = \"\"\n",
    "\n",
    "        for cell in df[col].iloc[:3]:\n",
    "            if isinstance(cell, str):\n",
    "                combined_col += cell\n",
    "\n",
    "        combined_columns.append(combined_col.strip())\n",
    "\n",
    "    # 列名を更新\n",
    "    df.columns = [col.replace(' ', '') for col in combined_columns]\n",
    "\n",
    "    # 不要な3行を削除する\n",
    "    df = df.iloc[3:]\n",
    "\n",
    "    return df\n",
    "\n",
    "df = combine_columns(data)\n",
    "df.index = [row[3:] for row in df.index] # 分類番号と半角スペースを落とす\n",
    "df.drop(df.columns[0], axis=1, inplace=True) # 2列目を落とす\n",
    "df.head()"
   ]
  },
  {
   "cell_type": "code",
   "execution_count": 4,
   "metadata": {},
   "outputs": [],
   "source": [
    "# 列名の不要な部分を削除\n",
    "def remove_suffix(col_name):\n",
    "    # \"(\"を含む文字列があれば、\"(\"以降を削除して返す\n",
    "    if \"(\" in col_name:\n",
    "        return col_name.split(\"(\")[0]\n",
    "    else:\n",
    "        return col_name\n",
    "\n",
    "# 列名を変更\n",
    "df.columns = [remove_suffix(col) for col in df.columns]"
   ]
  },
  {
   "cell_type": "code",
   "execution_count": 5,
   "metadata": {},
   "outputs": [
    {
     "data": {
      "text/plain": [
       "Index(['農林漁業', '鉱業', '飲食料品', '繊維製品', 'パルプ・紙・木製品', '化学製品', '石油・石炭製品',\n",
       "       'プラスチック・ゴム製品', '窯業・土石製品', '鉄鋼', '非鉄金属', '金属製品', 'はん用機械', '生産用機械',\n",
       "       '業務用機械', '電子部品', '電気機械', '情報通信機器', '輸送機械', 'その他の製造工業製品', '建設',\n",
       "       '電力・ガス・熱供給', '水道', '廃棄物処理', '商業', '金融・保険', '不動産', '運輸・郵便', '情報通信', '公務',\n",
       "       '教育・研究', '医療・福祉', '他に分類されない会員制団体', '対事業所サービス', '対個人サービス', '事務用品',\n",
       "       '分類不明', '内生部門計', '家計外消費支出(行)', '雇用者所得', '営業余剰', '資本減耗引当', '間接税（除関税等）',\n",
       "       '［控除］経常補助金', '粗付加価値部門計', '県内生産額（ＣＴ）'],\n",
       "      dtype='object')"
      ]
     },
     "execution_count": 5,
     "metadata": {},
     "output_type": "execute_result"
    }
   ],
   "source": [
    "df.index"
   ]
  },
  {
   "cell_type": "code",
   "execution_count": 6,
   "metadata": {},
   "outputs": [
    {
     "data": {
      "text/plain": [
       "Index(['農林漁業', '鉱業', '飲食料品', '繊維製品', 'パルプ・紙・木製品', '化学製品', '石油・石炭製品',\n",
       "       'プラスチック・ゴム製品', '窯業・土石製品', '鉄鋼', '非鉄金属', '金属製品', 'はん用機械', '生産用機械',\n",
       "       '業務用機械', '電子部品', '電気機械', '情報通信機器', '輸送機械', 'その他の製造工業製品', '建設',\n",
       "       '電力・ガス・熱供給', '水道', '廃棄物処理', '商業', '金融・保険', '不動産', '運輸・郵便', '情報通信', '公務',\n",
       "       '教育・研究', '医療・福祉', '他に分類されない会員制団体', '対事業所サービス', '対個人サービス', '事務用品',\n",
       "       '分類不明', '内生部門計', '家計外消費支出', '民間消費支出', '一般政府消費支出', '県内総固定資本形成（公的）',\n",
       "       '（民間）', '在庫純増', '県内最終需要計', '県内需要合計', '移輸出', '最終需要計', '需要合計', '［控除］移輸入',\n",
       "       '最終需要部門計', '県内生産額', '県内総支出（ＧＤＥ）'],\n",
       "      dtype='object')"
      ]
     },
     "execution_count": 6,
     "metadata": {},
     "output_type": "execute_result"
    }
   ],
   "source": [
    "df.columns"
   ]
  },
  {
   "cell_type": "code",
   "execution_count": 7,
   "metadata": {},
   "outputs": [],
   "source": [
    "df.to_csv(\"../../data/mid/df_processed.csv\")"
   ]
  },
  {
   "cell_type": "markdown",
   "metadata": {},
   "source": [
    "## 全国版産業連関表の前処理"
   ]
  },
  {
   "cell_type": "code",
   "execution_count": 8,
   "metadata": {},
   "outputs": [],
   "source": [
    "data_jp = pd.read_excel('https://www.e-stat.go.jp/stat-search/file-download?statInfId=000030137966&fileKind=0',\n",
    "                        skiprows=2, index_col=1)"
   ]
  },
  {
   "cell_type": "code",
   "execution_count": 9,
   "metadata": {},
   "outputs": [],
   "source": [
    "# 行・列名がマッチしない部分をpd.renameで揃える\n",
    "n = 37\n",
    "Unmatched = data_jp.columns[1:n+1] == df.columns[:n]\n",
    "rename_dict = {}\n",
    "for i in range(n):\n",
    "    if Unmatched[i]: # True\n",
    "        continue\n",
    "    else: # False\n",
    "        rename_dict[data_jp.columns[i+1]] = df.columns[i]\n",
    "\n",
    "data_jp.rename(index=rename_dict, columns=rename_dict, inplace=True)"
   ]
  },
  {
   "cell_type": "code",
   "execution_count": 10,
   "metadata": {},
   "outputs": [
    {
     "data": {
      "text/plain": [
       "Index(['農林漁業', '鉱業', '飲食料品', '繊維製品', 'パルプ・紙・木製品', '化学製品', '石油・石炭製品',\n",
       "       'プラスチック・ゴム製品', '窯業・土石製品', '鉄鋼', '非鉄金属', '金属製品', 'はん用機械', '生産用機械',\n",
       "       '業務用機械', '電子部品', '電気機械', '情報通信機器', '輸送機械', 'その他の製造工業製品', '建設',\n",
       "       '電力・ガス・熱供給', '水道', '廃棄物処理', '商業', '金融・保険', '不動産', '運輸・郵便', '情報通信', '公務',\n",
       "       '教育・研究', '医療・福祉', '他に分類されない会員制団体', '対事業所サービス', '対個人サービス', '事務用品',\n",
       "       '分類不明'],\n",
       "      dtype='object')"
      ]
     },
     "execution_count": 10,
     "metadata": {},
     "output_type": "execute_result"
    }
   ],
   "source": [
    "data_jp.columns[1:n+1]"
   ]
  },
  {
   "cell_type": "code",
   "execution_count": 11,
   "metadata": {},
   "outputs": [
    {
     "data": {
      "text/plain": [
       "Index(['農林漁業', '鉱業', '飲食料品', '繊維製品', 'パルプ・紙・木製品', '化学製品', '石油・石炭製品',\n",
       "       'プラスチック・ゴム製品', '窯業・土石製品', '鉄鋼', '非鉄金属', '金属製品', 'はん用機械', '生産用機械',\n",
       "       '業務用機械', '電子部品', '電気機械', '情報通信機器', '輸送機械', 'その他の製造工業製品', '建設',\n",
       "       '電力・ガス・熱供給', '水道', '廃棄物処理', '商業', '金融・保険', '不動産', '運輸・郵便', '情報通信', '公務',\n",
       "       '教育・研究', '医療・福祉', '他に分類されない会員制団体', '対事業所サービス', '対個人サービス', '事務用品',\n",
       "       '分類不明'],\n",
       "      dtype='object')"
      ]
     },
     "execution_count": 11,
     "metadata": {},
     "output_type": "execute_result"
    }
   ],
   "source": [
    "data_jp.index[:37]"
   ]
  },
  {
   "cell_type": "code",
   "execution_count": 12,
   "metadata": {},
   "outputs": [],
   "source": [
    "data_jp.to_csv(\"../../data/mid/data_jp_processed.csv\")"
   ]
  },
  {
   "cell_type": "markdown",
   "metadata": {},
   "source": [
    "# 分析"
   ]
  },
  {
   "cell_type": "markdown",
   "metadata": {},
   "source": [
    "## クラス定義"
   ]
  },
  {
   "cell_type": "code",
   "execution_count": 13,
   "metadata": {},
   "outputs": [],
   "source": [
    "class InputOutputTable:\n",
    "    def __init__(self, data:pd.DataFrame, n:int):\n",
    "        self.data = data\n",
    "        self.n = n\n",
    "        self.industries = data.index[:n]\n",
    "        self.A = self.calculate_A()\n",
    "        self.Mhat = self.calculate_Mhat()\n",
    "        self.L = self.calculate_L()\n",
    "        self.G = self.calculate_G()\n",
    "        self.E = self.calculate_E()\n",
    "        self.c = self.calculate_c()\n",
    "        self.x = self.calculate_x()\n",
    "\n",
    "\n",
    "    def calculate_A(self):\n",
    "        a = pd.DataFrame(np.zeros((self.n, self.n)), index=self.industries, columns=self.industries)\n",
    "        for row in self.industries:\n",
    "            for col in self.industries:\n",
    "                a.at[row, col] = self.data.at[row, col] / self.data.at[col, '県内生産額']\n",
    "\n",
    "        return a\n",
    "\n",
    "\n",
    "    def calculate_Mhat(self):\n",
    "        mhat = pd.DataFrame(np.zeros((self.n, self.n)), index=self.industries, columns= self.industries)\n",
    "        for industry in self.industries :\n",
    "            mhat.at[industry , industry] = - self.data.at[industry, '［控除］移輸入'] / self.data.at[industry, '県内需要合計']\n",
    "\n",
    "        return mhat\n",
    "\n",
    "\n",
    "    def calculate_L(self):\n",
    "        l = np.linalg.inv(np.identity(self.n) - (np.identity(self.n) - self.Mhat.values) @ self.A.values)\n",
    "\n",
    "        return l\n",
    "\n",
    "\n",
    "    def calculate_G(self):\n",
    "        O = pd.DataFrame(np.zeros((self.n, self.n)), index=self.industries, columns= self.industries)\n",
    "        for row in self.industries:\n",
    "            for col in self.industries:\n",
    "                O.at[row, col] = self.data.at[row, col] / self.data.at['県内生産額（ＣＴ）', row]\n",
    "\n",
    "        g = np.linalg.inv(np.identity(self.n) - O)\n",
    "\n",
    "        return g\n",
    "\n",
    "\n",
    "    def calculate_E(self, output:bool=True):\n",
    "        e = self.data.loc[self.industries, '移輸出']\n",
    "\n",
    "        return e\n",
    "\n",
    "\n",
    "    def calculate_c(self):\n",
    "        C = self.data.loc[self.industries, '県内最終需要計']\n",
    "\n",
    "        return C\n",
    "\n",
    "\n",
    "    def calculate_x(self):\n",
    "        x = self.L @ ((np.identity(self.n) - self.Mhat.values) @ self.c.values + self.E.values)\n",
    "\n",
    "        return x\n",
    "\n",
    "\n",
    "    def calculate_linkage(self, option:str):\n",
    "        if option == 'f': # forward linkage\n",
    "            return [self.n * np.sum(self.G[i, :]) / np.sum(np.sum(self.G)) for i in range(self.n)]\n",
    "        elif option == 'b': # backward linkage\n",
    "            return [self.n * np.sum(self.L[:, i]) / np.sum(np.sum(self.L)) for i in range(self.n)]"
   ]
  },
  {
   "cell_type": "code",
   "execution_count": 14,
   "metadata": {},
   "outputs": [],
   "source": [
    "IOtable = InputOutputTable(data=df, n=37)"
   ]
  },
  {
   "cell_type": "markdown",
   "metadata": {},
   "source": [
    "## 各指標の算出"
   ]
  },
  {
   "cell_type": "markdown",
   "metadata": {},
   "source": [
    "連関指標の計算"
   ]
  },
  {
   "cell_type": "code",
   "execution_count": 15,
   "metadata": {},
   "outputs": [],
   "source": [
    "n = IOtable.n\n",
    "industries = IOtable.industries\n",
    "\n",
    "table = pd.DataFrame([], index=industries)\n",
    "table.loc[:, '前方連関指標'] = IOtable.calculate_linkage(option='f')\n",
    "table.loc[:, '後方連関指標'] = IOtable.calculate_linkage(option='b')\n",
    "\n",
    "total_x = np.sum(IOtable.x)\n",
    "for i, industry in enumerate(industries):\n",
    "    A_copy = copy.deepcopy(IOtable.A)\n",
    "    A_copy.loc[industry, :] = np.zeros(IOtable.n)\n",
    "    A_copy.loc[:, industry] = np.zeros(IOtable.n)\n",
    "\n",
    "    Mhat_copy = copy.deepcopy(IOtable.Mhat)\n",
    "    Mhat_copy.loc[industry, industry] = 0\n",
    "\n",
    "    E_copy = copy.deepcopy(IOtable.E)\n",
    "    E_copy.at[industry] = 0\n",
    "\n",
    "    c_copy = copy.deepcopy(IOtable.c)\n",
    "    c_copy.at[industry] = 0\n",
    "\n",
    "    L_copy = np.linalg.inv(np.identity(IOtable.n) - (np.identity(IOtable.n) - Mhat_copy.values) @ A_copy.values)\n",
    "    x_tilde = L_copy @ ((np.identity(IOtable.n) - Mhat_copy.values) @ c_copy.values + E_copy.values)\n",
    "\n",
    "    table.at[industry, '総合連関指標'] = 100 * (total_x - IOtable.x[i] - np.sum(x_tilde)) / total_x"
   ]
  },
  {
   "cell_type": "markdown",
   "metadata": {},
   "source": [
    "純移輸出額"
   ]
  },
  {
   "cell_type": "code",
   "execution_count": 16,
   "metadata": {},
   "outputs": [],
   "source": [
    "table['純移輸出額'] = df.iloc[:37]['移輸出'] + df.iloc[:37]['［控除］移輸入']"
   ]
  },
  {
   "cell_type": "code",
   "execution_count": 17,
   "metadata": {},
   "outputs": [
    {
     "name": "stdout",
     "output_type": "stream",
     "text": [
      "Index(['農林漁業', '繊維製品', '化学製品', '石油・石炭製品', '鉄鋼', 'はん用機械', '生産用機械', '電力・ガス・熱供給',\n",
      "       '教育・研究', '他に分類されない会員制団体'],\n",
      "      dtype='object')\n"
     ]
    }
   ],
   "source": [
    "basic_sectors = table[table['純移輸出額'] > 0].index\n",
    "print(basic_sectors)"
   ]
  },
  {
   "cell_type": "markdown",
   "metadata": {},
   "source": [
    "各産業の純移輸出額の棒グラフ"
   ]
  },
  {
   "cell_type": "code",
   "execution_count": 18,
   "metadata": {},
   "outputs": [
    {
     "name": "stderr",
     "output_type": "stream",
     "text": [
      "C:\\Users\\echo1\\AppData\\Local\\Temp\\ipykernel_16784\\2801592675.py:6: UserWarning: set_ticklabels() should only be used with a fixed number of ticks, i.e. after set_ticks() or using a FixedLocator.\n",
      "  ax.set_xticklabels(frame.index, rotation=90)\n"
     ]
    },
    {
     "data": {
      "text/plain": [
       "Text(0.5, 1.0, '純移輸出額（億円）')"
      ]
     },
     "execution_count": 18,
     "metadata": {},
     "output_type": "execute_result"
    },
    {
     "data": {
      "image/png": "[encoded data removed]",
      "text/plain": [
       "<Figure size 800x400 with 1 Axes>"
      ]
     },
     "metadata": {},
     "output_type": "display_data"
    }
   ],
   "source": [
    "sns.set(font=\"IPAexGothic\")\n",
    "\n",
    "fig, ax = plt.subplots(figsize = (8, 4))\n",
    "frame = table['純移輸出額'].sort_values(ascending=False)\n",
    "ax.bar(frame.index, frame/100)\n",
    "ax.set_xticklabels(frame.index, rotation=90)\n",
    "ax.set_title('純移輸出額（億円）')"
   ]
  },
  {
   "cell_type": "markdown",
   "metadata": {},
   "source": [
    "主要産業の特定"
   ]
  },
  {
   "cell_type": "code",
   "execution_count": 19,
   "metadata": {},
   "outputs": [
    {
     "name": "stdout",
     "output_type": "stream",
     "text": [
      "Index(['鉄鋼'], dtype='object')\n"
     ]
    }
   ],
   "source": [
    "def weighted_average(measure):\n",
    "    return sum(table[measure] * table['総合連関指標']) / sum(table['総合連関指標'])\n",
    "\n",
    "key_sectors = table[\n",
    "    (table.index.isin(basic_sectors))\n",
    "    & (table['後方連関指標'] >= weighted_average('後方連関指標'))\n",
    "    & (table['前方連関指標'] >= weighted_average('前方連関指標'))\n",
    "].index\n",
    "print(key_sectors)"
   ]
  },
  {
   "cell_type": "code",
   "execution_count": 20,
   "metadata": {},
   "outputs": [
    {
     "name": "stdout",
     "output_type": "stream",
     "text": [
      "Index(['農林漁業', '繊維製品', '化学製品', '石油・石炭製品', '鉄鋼', 'はん用機械', '生産用機械', '電力・ガス・熱供給',\n",
      "       '教育・研究', '他に分類されない会員制団体'],\n",
      "      dtype='object')\n",
      "Index(['鉱業', '窯業・土石製品', '鉄鋼', '金属製品', '生産用機械', '水道', '運輸・郵便', '情報通信', '事務用品',\n",
      "       '分類不明'],\n",
      "      dtype='object')\n",
      "Index(['鉱業', 'パルプ・紙・木製品', 'プラスチック・ゴム製品', '窯業・土石製品', '鉄鋼', '非鉄金属', '金属製品',\n",
      "       '電子部品', '電気機械', '情報通信機器', '輸送機械', 'その他の製造工業製品', '電力・ガス・熱供給', '金融・保険',\n",
      "       '運輸・郵便', '情報通信', '対事業所サービス', '事務用品', '分類不明'],\n",
      "      dtype='object')\n"
     ]
    }
   ],
   "source": [
    "print(table[table.index.isin(basic_sectors)].index,\n",
    "      table[table['後方連関指標'] >= weighted_average('後方連関指標')].index,\n",
    "      table[table['前方連関指標'] >= weighted_average('前方連関指標')].index,\n",
    "      sep='\\n'\n",
    ")"
   ]
  },
  {
   "cell_type": "markdown",
   "metadata": {},
   "source": [
    "特化係数の算出"
   ]
  },
  {
   "cell_type": "code",
   "execution_count": 21,
   "metadata": {},
   "outputs": [],
   "source": [
    "for industry in industries:\n",
    "    table.at[industry, '特化係数'] = (\n",
    "        IOtable.data.at[industry, '県内生産額'] / sum(IOtable.data.loc[industries, '県内生産額'])) / (\n",
    "            data_jp.at[industry, '国内生産額'] / sum(data_jp.loc[industries, '国内生産額'])\n",
    "        )"
   ]
  },
  {
   "cell_type": "code",
   "execution_count": 22,
   "metadata": {},
   "outputs": [
    {
     "data": {
      "text/html": [
       "<div>\n",
       "<style scoped>\n",
       "    .dataframe tbody tr th:only-of-type {\n",
       "        vertical-align: middle;\n",
       "    }\n",
       "\n",
       "    .dataframe tbody tr th {\n",
       "        vertical-align: top;\n",
       "    }\n",
       "\n",
       "    .dataframe thead th {\n",
       "        text-align: right;\n",
       "    }\n",
       "</style>\n",
       "<table border=\"1\" class=\"dataframe\">\n",
       "  <thead>\n",
       "    <tr style=\"text-align: right;\">\n",
       "      <th></th>\n",
       "      <th>前方連関指標</th>\n",
       "      <th>後方連関指標</th>\n",
       "      <th>総合連関指標</th>\n",
       "      <th>純移輸出額</th>\n",
       "      <th>特化係数</th>\n",
       "    </tr>\n",
       "  </thead>\n",
       "  <tbody>\n",
       "    <tr>\n",
       "      <th>農林漁業</th>\n",
       "      <td>0.150472</td>\n",
       "      <td>0.930784</td>\n",
       "      <td>0.359693</td>\n",
       "      <td>51499</td>\n",
       "      <td>1.517208</td>\n",
       "    </tr>\n",
       "    <tr>\n",
       "      <th>鉱業</th>\n",
       "      <td>28.698341</td>\n",
       "      <td>1.073992</td>\n",
       "      <td>0.018872</td>\n",
       "      <td>-562293</td>\n",
       "      <td>0.566648</td>\n",
       "    </tr>\n",
       "    <tr>\n",
       "      <th>飲食料品</th>\n",
       "      <td>0.145534</td>\n",
       "      <td>1.001576</td>\n",
       "      <td>0.738596</td>\n",
       "      <td>-100951</td>\n",
       "      <td>0.725537</td>\n",
       "    </tr>\n",
       "    <tr>\n",
       "      <th>繊維製品</th>\n",
       "      <td>0.172141</td>\n",
       "      <td>0.936100</td>\n",
       "      <td>0.183403</td>\n",
       "      <td>1584</td>\n",
       "      <td>2.486046</td>\n",
       "    </tr>\n",
       "    <tr>\n",
       "      <th>パルプ・紙・木製品</th>\n",
       "      <td>0.280080</td>\n",
       "      <td>1.004792</td>\n",
       "      <td>0.244323</td>\n",
       "      <td>-5402</td>\n",
       "      <td>0.949454</td>\n",
       "    </tr>\n",
       "    <tr>\n",
       "      <th>化学製品</th>\n",
       "      <td>0.180360</td>\n",
       "      <td>0.939355</td>\n",
       "      <td>1.055044</td>\n",
       "      <td>205125</td>\n",
       "      <td>2.263335</td>\n",
       "    </tr>\n",
       "    <tr>\n",
       "      <th>石油・石炭製品</th>\n",
       "      <td>0.151086</td>\n",
       "      <td>0.819834</td>\n",
       "      <td>0.405383</td>\n",
       "      <td>431220</td>\n",
       "      <td>3.945203</td>\n",
       "    </tr>\n",
       "    <tr>\n",
       "      <th>プラスチック・ゴム製品</th>\n",
       "      <td>0.319997</td>\n",
       "      <td>0.930774</td>\n",
       "      <td>0.175874</td>\n",
       "      <td>-7619</td>\n",
       "      <td>0.664968</td>\n",
       "    </tr>\n",
       "    <tr>\n",
       "      <th>窯業・土石製品</th>\n",
       "      <td>0.250931</td>\n",
       "      <td>1.077694</td>\n",
       "      <td>0.200162</td>\n",
       "      <td>-5456</td>\n",
       "      <td>0.863624</td>\n",
       "    </tr>\n",
       "    <tr>\n",
       "      <th>鉄鋼</th>\n",
       "      <td>0.218646</td>\n",
       "      <td>1.533540</td>\n",
       "      <td>1.140383</td>\n",
       "      <td>334029</td>\n",
       "      <td>3.473025</td>\n",
       "    </tr>\n",
       "    <tr>\n",
       "      <th>非鉄金属</th>\n",
       "      <td>0.660607</td>\n",
       "      <td>0.887016</td>\n",
       "      <td>0.032922</td>\n",
       "      <td>-16233</td>\n",
       "      <td>0.214195</td>\n",
       "    </tr>\n",
       "    <tr>\n",
       "      <th>金属製品</th>\n",
       "      <td>0.246507</td>\n",
       "      <td>1.247496</td>\n",
       "      <td>0.602144</td>\n",
       "      <td>-4481</td>\n",
       "      <td>0.891533</td>\n",
       "    </tr>\n",
       "    <tr>\n",
       "      <th>はん用機械</th>\n",
       "      <td>0.106083</td>\n",
       "      <td>0.896684</td>\n",
       "      <td>0.520503</td>\n",
       "      <td>176195</td>\n",
       "      <td>3.395101</td>\n",
       "    </tr>\n",
       "    <tr>\n",
       "      <th>生産用機械</th>\n",
       "      <td>0.118694</td>\n",
       "      <td>1.019766</td>\n",
       "      <td>0.443096</td>\n",
       "      <td>45674</td>\n",
       "      <td>0.928211</td>\n",
       "    </tr>\n",
       "    <tr>\n",
       "      <th>業務用機械</th>\n",
       "      <td>0.195090</td>\n",
       "      <td>0.928965</td>\n",
       "      <td>0.038076</td>\n",
       "      <td>-16357</td>\n",
       "      <td>0.257473</td>\n",
       "    </tr>\n",
       "    <tr>\n",
       "      <th>電子部品</th>\n",
       "      <td>0.371056</td>\n",
       "      <td>0.897415</td>\n",
       "      <td>0.028311</td>\n",
       "      <td>-2598</td>\n",
       "      <td>0.131413</td>\n",
       "    </tr>\n",
       "    <tr>\n",
       "      <th>電気機械</th>\n",
       "      <td>0.263019</td>\n",
       "      <td>0.919367</td>\n",
       "      <td>0.048448</td>\n",
       "      <td>-73165</td>\n",
       "      <td>0.151887</td>\n",
       "    </tr>\n",
       "    <tr>\n",
       "      <th>情報通信機器</th>\n",
       "      <td>0.249743</td>\n",
       "      <td>0.892669</td>\n",
       "      <td>0.004904</td>\n",
       "      <td>-53495</td>\n",
       "      <td>0.033641</td>\n",
       "    </tr>\n",
       "    <tr>\n",
       "      <th>輸送機械</th>\n",
       "      <td>0.746497</td>\n",
       "      <td>0.881255</td>\n",
       "      <td>0.030029</td>\n",
       "      <td>-85764</td>\n",
       "      <td>0.041777</td>\n",
       "    </tr>\n",
       "    <tr>\n",
       "      <th>その他の製造工業製品</th>\n",
       "      <td>0.288909</td>\n",
       "      <td>0.998466</td>\n",
       "      <td>0.170837</td>\n",
       "      <td>-38045</td>\n",
       "      <td>0.538136</td>\n",
       "    </tr>\n",
       "    <tr>\n",
       "      <th>建設</th>\n",
       "      <td>0.097035</td>\n",
       "      <td>1.002625</td>\n",
       "      <td>2.240403</td>\n",
       "      <td>0</td>\n",
       "      <td>1.269512</td>\n",
       "    </tr>\n",
       "    <tr>\n",
       "      <th>電力・ガス・熱供給</th>\n",
       "      <td>0.205691</td>\n",
       "      <td>0.973998</td>\n",
       "      <td>0.509915</td>\n",
       "      <td>35640</td>\n",
       "      <td>1.367281</td>\n",
       "    </tr>\n",
       "    <tr>\n",
       "      <th>水道</th>\n",
       "      <td>0.168118</td>\n",
       "      <td>1.095117</td>\n",
       "      <td>0.191513</td>\n",
       "      <td>0</td>\n",
       "      <td>1.151570</td>\n",
       "    </tr>\n",
       "    <tr>\n",
       "      <th>廃棄物処理</th>\n",
       "      <td>0.161575</td>\n",
       "      <td>0.990934</td>\n",
       "      <td>0.218369</td>\n",
       "      <td>-1848</td>\n",
       "      <td>1.813431</td>\n",
       "    </tr>\n",
       "    <tr>\n",
       "      <th>商業</th>\n",
       "      <td>0.162101</td>\n",
       "      <td>0.954362</td>\n",
       "      <td>1.730278</td>\n",
       "      <td>-99088</td>\n",
       "      <td>0.715614</td>\n",
       "    </tr>\n",
       "    <tr>\n",
       "      <th>金融・保険</th>\n",
       "      <td>0.202706</td>\n",
       "      <td>0.951161</td>\n",
       "      <td>0.536133</td>\n",
       "      <td>-32405</td>\n",
       "      <td>0.786923</td>\n",
       "    </tr>\n",
       "    <tr>\n",
       "      <th>不動産</th>\n",
       "      <td>0.112837</td>\n",
       "      <td>0.864664</td>\n",
       "      <td>0.716597</td>\n",
       "      <td>-797</td>\n",
       "      <td>0.842608</td>\n",
       "    </tr>\n",
       "    <tr>\n",
       "      <th>運輸・郵便</th>\n",
       "      <td>0.311879</td>\n",
       "      <td>1.041544</td>\n",
       "      <td>1.120988</td>\n",
       "      <td>-29032</td>\n",
       "      <td>0.872727</td>\n",
       "    </tr>\n",
       "    <tr>\n",
       "      <th>情報通信</th>\n",
       "      <td>0.252834</td>\n",
       "      <td>1.022804</td>\n",
       "      <td>0.403479</td>\n",
       "      <td>-115019</td>\n",
       "      <td>0.437515</td>\n",
       "    </tr>\n",
       "    <tr>\n",
       "      <th>公務</th>\n",
       "      <td>0.093071</td>\n",
       "      <td>0.930941</td>\n",
       "      <td>0.734007</td>\n",
       "      <td>0</td>\n",
       "      <td>0.783101</td>\n",
       "    </tr>\n",
       "    <tr>\n",
       "      <th>教育・研究</th>\n",
       "      <td>0.089735</td>\n",
       "      <td>0.907911</td>\n",
       "      <td>0.777616</td>\n",
       "      <td>4884</td>\n",
       "      <td>1.084965</td>\n",
       "    </tr>\n",
       "    <tr>\n",
       "      <th>医療・福祉</th>\n",
       "      <td>0.089494</td>\n",
       "      <td>0.933212</td>\n",
       "      <td>1.674402</td>\n",
       "      <td>-21</td>\n",
       "      <td>1.250962</td>\n",
       "    </tr>\n",
       "    <tr>\n",
       "      <th>他に分類されない会員制団体</th>\n",
       "      <td>0.123845</td>\n",
       "      <td>0.960958</td>\n",
       "      <td>0.184994</td>\n",
       "      <td>17101</td>\n",
       "      <td>1.281298</td>\n",
       "    </tr>\n",
       "    <tr>\n",
       "      <th>対事業所サービス</th>\n",
       "      <td>0.426230</td>\n",
       "      <td>0.907349</td>\n",
       "      <td>0.350189</td>\n",
       "      <td>-225415</td>\n",
       "      <td>0.430938</td>\n",
       "    </tr>\n",
       "    <tr>\n",
       "      <th>対個人サービス</th>\n",
       "      <td>0.093691</td>\n",
       "      <td>1.003768</td>\n",
       "      <td>1.299037</td>\n",
       "      <td>-11029</td>\n",
       "      <td>0.760716</td>\n",
       "    </tr>\n",
       "    <tr>\n",
       "      <th>事務用品</th>\n",
       "      <td>0.248195</td>\n",
       "      <td>1.102672</td>\n",
       "      <td>0.058630</td>\n",
       "      <td>-1</td>\n",
       "      <td>0.926708</td>\n",
       "    </tr>\n",
       "    <tr>\n",
       "      <th>分類不明</th>\n",
       "      <td>0.347169</td>\n",
       "      <td>1.538439</td>\n",
       "      <td>0.333826</td>\n",
       "      <td>-7396</td>\n",
       "      <td>0.615864</td>\n",
       "    </tr>\n",
       "  </tbody>\n",
       "</table>\n",
       "</div>"
      ],
      "text/plain": [
       "                  前方連関指標    後方連関指標    総合連関指標    純移輸出額      特化係数\n",
       "農林漁業            0.150472  0.930784  0.359693    51499  1.517208\n",
       "鉱業             28.698341  1.073992  0.018872  -562293  0.566648\n",
       "飲食料品            0.145534  1.001576  0.738596  -100951  0.725537\n",
       "繊維製品            0.172141  0.936100  0.183403     1584  2.486046\n",
       "パルプ・紙・木製品       0.280080  1.004792  0.244323    -5402  0.949454\n",
       "化学製品            0.180360  0.939355  1.055044   205125  2.263335\n",
       "石油・石炭製品         0.151086  0.819834  0.405383   431220  3.945203\n",
       "プラスチック・ゴム製品     0.319997  0.930774  0.175874    -7619  0.664968\n",
       "窯業・土石製品         0.250931  1.077694  0.200162    -5456  0.863624\n",
       "鉄鋼              0.218646  1.533540  1.140383   334029  3.473025\n",
       "非鉄金属            0.660607  0.887016  0.032922   -16233  0.214195\n",
       "金属製品            0.246507  1.247496  0.602144    -4481  0.891533\n",
       "はん用機械           0.106083  0.896684  0.520503   176195  3.395101\n",
       "生産用機械           0.118694  1.019766  0.443096    45674  0.928211\n",
       "業務用機械           0.195090  0.928965  0.038076   -16357  0.257473\n",
       "電子部品            0.371056  0.897415  0.028311    -2598  0.131413\n",
       "電気機械            0.263019  0.919367  0.048448   -73165  0.151887\n",
       "情報通信機器          0.249743  0.892669  0.004904   -53495  0.033641\n",
       "輸送機械            0.746497  0.881255  0.030029   -85764  0.041777\n",
       "その他の製造工業製品      0.288909  0.998466  0.170837   -38045  0.538136\n",
       "建設              0.097035  1.002625  2.240403        0  1.269512\n",
       "電力・ガス・熱供給       0.205691  0.973998  0.509915    35640  1.367281\n",
       "水道              0.168118  1.095117  0.191513        0  1.151570\n",
       "廃棄物処理           0.161575  0.990934  0.218369    -1848  1.813431\n",
       "商業              0.162101  0.954362  1.730278   -99088  0.715614\n",
       "金融・保険           0.202706  0.951161  0.536133   -32405  0.786923\n",
       "不動産             0.112837  0.864664  0.716597     -797  0.842608\n",
       "運輸・郵便           0.311879  1.041544  1.120988   -29032  0.872727\n",
       "情報通信            0.252834  1.022804  0.403479  -115019  0.437515\n",
       "公務              0.093071  0.930941  0.734007        0  0.783101\n",
       "教育・研究           0.089735  0.907911  0.777616     4884  1.084965\n",
       "医療・福祉           0.089494  0.933212  1.674402      -21  1.250962\n",
       "他に分類されない会員制団体   0.123845  0.960958  0.184994    17101  1.281298\n",
       "対事業所サービス        0.426230  0.907349  0.350189  -225415  0.430938\n",
       "対個人サービス         0.093691  1.003768  1.299037   -11029  0.760716\n",
       "事務用品            0.248195  1.102672  0.058630       -1  0.926708\n",
       "分類不明            0.347169  1.538439  0.333826    -7396  0.615864"
      ]
     },
     "execution_count": 22,
     "metadata": {},
     "output_type": "execute_result"
    }
   ],
   "source": [
    "table"
   ]
  },
  {
   "cell_type": "code",
   "execution_count": 23,
   "metadata": {},
   "outputs": [],
   "source": [
    "table.to_csv('../../reports/mid/table.csv')"
   ]
  },
  {
   "cell_type": "code",
   "execution_count": 24,
   "metadata": {},
   "outputs": [
    {
     "name": "stdout",
     "output_type": "stream",
     "text": [
      "0.19547451856097237 1.015761843699735\n"
     ]
    }
   ],
   "source": [
    "print(\n",
    "    weighted_average('前方連関指標'),\n",
    "    weighted_average('後方連関指標')\n",
    ")"
   ]
  },
  {
   "cell_type": "code",
   "execution_count": 25,
   "metadata": {},
   "outputs": [
    {
     "name": "stdout",
     "output_type": "stream",
     "text": [
      "('前方連関指標上位5分類', Index(['鉱業', '輸送機械', '非鉄金属', '対事業所サービス', '電子部品'], dtype='object'))\n",
      "('後方連関指標上位5分類', Index(['分類不明', '鉄鋼', '金属製品', '事務用品', '水道'], dtype='object'))\n",
      "('総合連関指標上位5分類', Index(['建設', '商業', '医療・福祉', '対個人サービス', '鉄鋼'], dtype='object'))\n",
      "('純移輸出額上位5分類', Index(['石油・石炭製品', '鉄鋼', '化学製品', 'はん用機械', '農林漁業'], dtype='object'))\n",
      "('特化係数上位5分類', Index(['石油・石炭製品', '鉄鋼', 'はん用機械', '繊維製品', '化学製品'], dtype='object'))\n"
     ]
    }
   ],
   "source": [
    "# 各指標の上位5分類を取得\n",
    "table['純移輸出額'] = table['純移輸出額'].astype(float)\n",
    "\n",
    "def take_top_5(data:pd.DataFrame, column:str):\n",
    "    title = \"%s上位5分類\" % column\n",
    "    res = table.nlargest(5, column).index\n",
    "    return title, res\n",
    "\n",
    "for col in table.columns:\n",
    "    print(take_top_5(table, col), sep='\\n')"
   ]
  },
  {
   "cell_type": "markdown",
   "metadata": {},
   "source": [
    "前方連関指標と後方連関指標の散布図"
   ]
  },
  {
   "cell_type": "code",
   "execution_count": 26,
   "metadata": {},
   "outputs": [
    {
     "data": {
      "text/plain": [
       "Text(0, 0.5, '前方連関指標（対数）')"
      ]
     },
     "execution_count": 26,
     "metadata": {},
     "output_type": "execute_result"
    },
    {
     "data": {
      "image/png": "[encoded data removed]",
      "text/plain": [
       "<Figure size 640x480 with 1 Axes>"
      ]
     },
     "metadata": {},
     "output_type": "display_data"
    }
   ],
   "source": [
    "fig, ax = plt.subplots()\n",
    "colors = pd.Series([\n",
    "    'red' if industry in key_sectors\n",
    "    else 'orange' if industry in basic_sectors\n",
    "    else 'blue' for industry in industries\n",
    "], index=industries\n",
    ")\n",
    "\n",
    "for industry in table.index:\n",
    "    ax.scatter(x=np.log(table.at[industry, '後方連関指標']),\n",
    "               y=np.log(table.at[industry, '前方連関指標']),\n",
    "               s=150*table.at[industry, '総合連関指標'],\n",
    "               c=colors[industry])\n",
    "    if industry in key_sectors:\n",
    "        ax.annotate(industry,\n",
    "                    (np.log(table.at[industry, '後方連関指標']),\n",
    "                     np.log(table.at[industry, '前方連関指標'])),\n",
    "                     size=8)\n",
    "\n",
    "ax.axvline(np.log(weighted_average('後方連関指標')),\n",
    "           color='black', linewidth=1)\n",
    "ax.axhline(np.log(weighted_average('前方連関指標')),\n",
    "           color='black', linewidth=1)\n",
    "ax.set_xlabel('後方連関指標（対数）')\n",
    "ax.set_ylabel('前方連関指標（対数）')"
   ]
  },
  {
   "cell_type": "code",
   "execution_count": 27,
   "metadata": {},
   "outputs": [],
   "source": [
    "fig.savefig(\"../../reports/mid/linkages_wakayama.png\", bbox_inches='tight')"
   ]
  },
  {
   "cell_type": "markdown",
   "metadata": {},
   "source": [
    "前方連関指標・後方連関指標が正の分類を表示"
   ]
  },
  {
   "cell_type": "code",
   "execution_count": 28,
   "metadata": {},
   "outputs": [
    {
     "data": {
      "text/plain": [
       "Text(0, 0.5, '前方連関指標（対数）')"
      ]
     },
     "execution_count": 28,
     "metadata": {},
     "output_type": "execute_result"
    },
    {
     "data": {
      "image/png": "[encoded data removed]",
      "text/plain": [
       "<Figure size 640x480 with 1 Axes>"
      ]
     },
     "metadata": {},
     "output_type": "display_data"
    }
   ],
   "source": [
    "fig, ax = plt.subplots()\n",
    "colors = pd.Series([\n",
    "    'red' if industry in key_sectors\n",
    "    else 'orange' if industry in basic_sectors\n",
    "    else 'blue' for industry in industries\n",
    "], index=industries\n",
    ")\n",
    "\n",
    "semi_key_sectors = table[\n",
    "    (table['後方連関指標'] >= weighted_average('後方連関指標'))\n",
    "    & (table['前方連関指標'] >= weighted_average('前方連関指標'))\n",
    "].index\n",
    "\n",
    "for industry in table.index:\n",
    "    ax.scatter(x=np.log(table.at[industry, '後方連関指標']),\n",
    "               y=np.log(table.at[industry, '前方連関指標']),\n",
    "               s=150*table.at[industry, '総合連関指標'],\n",
    "               c=colors[industry])\n",
    "    if industry in semi_key_sectors:\n",
    "        ax.annotate(industry,\n",
    "                    (np.log(table.at[industry, '後方連関指標']),\n",
    "                     np.log(table.at[industry, '前方連関指標'])),\n",
    "                     size=8)\n",
    "\n",
    "ax.axvline(np.log(weighted_average('後方連関指標')),\n",
    "           color='black', linewidth=1)\n",
    "ax.axhline(np.log(weighted_average('前方連関指標')),\n",
    "           color='black', linewidth=1)\n",
    "ax.set_xlabel('後方連関指標（対数）')\n",
    "ax.set_ylabel('前方連関指標（対数）')"
   ]
  }
 ],
 "metadata": {
  "kernelspec": {
   "display_name": "venv_IndGeo",
   "language": "python",
   "name": "python3"
  },
  "language_info": {
   "codemirror_mode": {
    "name": "ipython",
    "version": 3
   },
   "file_extension": ".py",
   "mimetype": "text/x-python",
   "name": "python",
   "nbconvert_exporter": "python",
   "pygments_lexer": "ipython3",
   "version": "3.10.11"
  },
  "orig_nbformat": 4
 },
 "nbformat": 4,
 "nbformat_minor": 2
}
